{
 "cells": [
  {
   "cell_type": "markdown",
   "metadata": {},
   "source": [
    "<h1 align=\"center\">Universidad Marítima del Caribe </h1>\n",
    "<h1 align=\"center\">Cálculo Numérico</h1>\n",
    "<h1 align=\"center\">Tema 1: Aritmética y Errores</h1>\n",
    "<h1 align=\"center\">Semestre 2023-1</h1>"
   ]
  },
  {
   "cell_type": "markdown",
   "metadata": {},
   "source": [
    "*** \n",
    "***Docente:*** Profesor Román Ramos."
   ]
  },
  {
   "cell_type": "code",
   "execution_count": 1,
   "metadata": {},
   "outputs": [
    {
     "data": {
      "text/html": [
       "\n",
       "<link href='http://fonts.googleapis.com/css?family=Fenix' rel='stylesheet' type='text/css'>\n",
       "<link href='http://fonts.googleapis.com/css?family=Alegreya+Sans:100,300,400,500,700,800,900,100italic,300italic,400italic,500italic,700italic,800italic,900italic' rel='stylesheet' type='text/css'>\n",
       "<link href='http://fonts.googleapis.com/css?family=Source+Code+Pro:300,400' rel='stylesheet' type='text/css'>\n",
       "\n",
       "<style>\n",
       "\n",
       "/*\n",
       "Template for Notebooks for Numerical analysis.\n",
       "\n",
       "Based on Lorena Barba template available at:\n",
       "\n",
       "    https://github.com/barbagroup/AeroPython/blob/master/styles/custom.css\n",
       "*/\n",
       "\n",
       "/* Fonts */\n",
       "@font-face {\n",
       "font-family: \"Computer Modern\";\n",
       "src: url('http://mirrors.ctan.org/fonts/cm-unicode/fonts/otf/cmunss.otf');\n",
       "}\n",
       "\n",
       "/* Text */\n",
       "div.cell{\n",
       "width:800px;\n",
       "margin-left:16% !important;\n",
       "margin-right:auto;\n",
       "}\n",
       "h1 {\n",
       "font-family: 'Alegreya Sans', sans-serif;\n",
       "}\n",
       "h2 {\n",
       "font-family: 'Fenix', serif;\n",
       "}\n",
       "h3{\n",
       "font-family: 'Fenix', serif;\n",
       "margin-top:12px;\n",
       "margin-bottom: 3px;\n",
       "}\n",
       "h4{\n",
       "font-family: 'Fenix', serif;\n",
       "}\n",
       "h5 {\n",
       "font-family: 'Alegreya Sans', sans-serif;\n",
       "}\t\n",
       "div.text_cell_render{\n",
       "font-family: 'Alegreya Sans',Computer Modern, \"Helvetica Neue\", Arial, Helvetica, Geneva, sans-serif;\n",
       "line-height: 135%;\n",
       "font-size: 120%;\n",
       "width:600px;\n",
       "margin-left:auto;\n",
       "margin-right:auto;\n",
       "}\n",
       ".CodeMirror{\n",
       "font-family: \"Source Code Pro\";\n",
       "font-size: 90%;\n",
       "}\n",
       "/* .prompt{\n",
       "display: None;\n",
       "}*/\n",
       ".text_cell_render h1 {\n",
       "font-weight: 200;\n",
       "font-size: 25pt;\n",
       "line-height: 100%;\n",
       "color:#CD2305;\n",
       "margin-bottom: 0.5em;\n",
       "margin-top: 0.5em;\n",
       "display: block;\n",
       "}\t\n",
       ".text_cell_render h5 {\n",
       "font-weight: 300;\n",
       "font-size: 16pt;\n",
       "color: #CD2305;\n",
       "font-style: italic;\n",
       "margin-bottom: .5em;\n",
       "margin-top: 0.5em;\n",
       "display: block;\n",
       "}\n",
       ".warning{\n",
       "color: rgb( 240, 20, 20 )\n",
       "}\n",
       "</style>\n",
       "\n",
       "<script>\n",
       "/* Equations */\n",
       "\n",
       "MathJax.Hub.Config({\n",
       "TeX: {\n",
       "extensions: [\"AMSmath.js\"]\n",
       "},\n",
       "tex2jax: {\n",
       "inlineMath: [ ['$','$'], [\"\\\\(\",\"\\\\)\"] ],\n",
       "displayMath: [ ['$$','$$'], [\"\\\\[\",\"\\\\]\"] ]\n",
       "},\n",
       "displayAlign: 'center', // Change this to 'center' to center equations.\n",
       "\"HTML-CSS\": {\n",
       "styles: {'.MathJax_Display': {\"margin\": 4}}\n",
       "}\n",
       "});\n",
       "</script>\n",
       "\n",
       "\n"
      ],
      "text/plain": [
       "<IPython.core.display.HTML object>"
      ]
     },
     "execution_count": 1,
     "metadata": {},
     "output_type": "execute_result"
    }
   ],
   "source": [
    "from IPython.core.display import HTML\n",
    "def css_styling():\n",
    "    styles = open('./nb_style.css', 'r').read()\n",
    "    return HTML(styles)\n",
    "css_styling()"
   ]
  },
  {
   "cell_type": "markdown",
   "metadata": {},
   "source": [
    "<a id='TOC'></a>"
   ]
  },
  {
   "cell_type": "markdown",
   "metadata": {
    "toc": true
   },
   "source": [
    "<h1>Tabla de Contenidos<span class=\"tocSkip\"></span></h1>\n",
    "<div class=\"toc\"><ul class=\"toc-item\"><li><span><a href=\"#Fuentes-de-error\" data-toc-modified-id=\"Fuentes-de-error-1\"><span class=\"toc-item-num\">1&nbsp;&nbsp;</span>Fuentes de error</a></span><ul class=\"toc-item\"><li><span><a href=\"#Error-en-el-modelo-y-los-datos\" data-toc-modified-id=\"Error-en-el-modelo-y-los-datos-1.1\"><span class=\"toc-item-num\">1.1&nbsp;&nbsp;</span>Error en el modelo y los datos</a></span></li><li><span><a href=\"#Error-de-truncamiento\" data-toc-modified-id=\"Error-de-truncamiento-1.2\"><span class=\"toc-item-num\">1.2&nbsp;&nbsp;</span>Error de truncamiento</a></span></li><li><span><a href=\"#Error-de--representación-de-punto-fotante\" data-toc-modified-id=\"Error-de--representación-de-punto-fotante-1.3\"><span class=\"toc-item-num\">1.3&nbsp;&nbsp;</span>Error de  representación de punto fotante</a></span></li><li><span><a href=\"#Definiciones-básicas\" data-toc-modified-id=\"Definiciones-básicas-1.4\"><span class=\"toc-item-num\">1.4&nbsp;&nbsp;</span>Definiciones básicas</a></span><ul class=\"toc-item\"><li><span><a href=\"#Error-absoluto\" data-toc-modified-id=\"Error-absoluto-1.4.1\"><span class=\"toc-item-num\">1.4.1&nbsp;&nbsp;</span>Error absoluto</a></span></li><li><span><a href=\"#Error-relativo\" data-toc-modified-id=\"Error-relativo-1.4.2\"><span class=\"toc-item-num\">1.4.2&nbsp;&nbsp;</span>Error relativo</a></span></li></ul></li></ul></li><li><span><a href=\"#Notación-$\\text{Big}-\\mathcal{O}$\" data-toc-modified-id=\"Notación-$\\text{Big}-\\mathcal{O}$-2\"><span class=\"toc-item-num\">2&nbsp;&nbsp;</span>Notación $\\text{Big}-\\mathcal{O}$</a></span><ul class=\"toc-item\"><li><span><a href=\"#Reglas-para-el-error-de-propagación-basado-en-la-notación-$\\text{Big}-\\mathcal{O}$\" data-toc-modified-id=\"Reglas-para-el-error-de-propagación-basado-en-la-notación-$\\text{Big}-\\mathcal{O}$-2.1\"><span class=\"toc-item-num\">2.1&nbsp;&nbsp;</span>Reglas para el error de propagación basado en la notación $\\text{Big}-\\mathcal{O}$</a></span></li></ul></li><li><span><a href=\"#Error-de-truncamiento\" data-toc-modified-id=\"Error-de-truncamiento-3\"><span class=\"toc-item-num\">3&nbsp;&nbsp;</span>Error de truncamiento</a></span><ul class=\"toc-item\"><li><span><a href=\"#Laboratorio-Numérico-1\" data-toc-modified-id=\"Laboratorio-Numérico-1-3.1\"><span class=\"toc-item-num\">3.1&nbsp;&nbsp;</span>Laboratorio Numérico 1</a></span></li></ul></li><li><span><a href=\"#Error-de-punto-flotante\" data-toc-modified-id=\"Error-de-punto-flotante-4\"><span class=\"toc-item-num\">4&nbsp;&nbsp;</span>Error de punto flotante</a></span><ul class=\"toc-item\"><li><span><a href=\"#Aritmética-de-punto-flotante\" data-toc-modified-id=\"Aritmética-de-punto-flotante-4.1\"><span class=\"toc-item-num\">4.1&nbsp;&nbsp;</span>Aritmética de punto flotante</a></span></li><li><span><a href=\"#Propiedades-de-los-sistemas-de-punto-flotante\" data-toc-modified-id=\"Propiedades-de-los-sistemas-de-punto-flotante-4.2\"><span class=\"toc-item-num\">4.2&nbsp;&nbsp;</span>Propiedades de los sistemas de punto flotante</a></span></li><li><span><a href=\"#Sistema-Binario\" data-toc-modified-id=\"Sistema-Binario-4.3\"><span class=\"toc-item-num\">4.3&nbsp;&nbsp;</span>Sistema Binario</a></span><ul class=\"toc-item\"><li><span><a href=\"#Numero-y-distribución-de-números\" data-toc-modified-id=\"Numero-y-distribución-de-números-4.3.1\"><span class=\"toc-item-num\">4.3.1&nbsp;&nbsp;</span>Numero y distribución de números</a></span></li></ul></li><li><span><a href=\"#Sistema-real---IEEE-754-sistema-binario-de-punto-flotante\" data-toc-modified-id=\"Sistema-real---IEEE-754-sistema-binario-de-punto-flotante-4.4\"><span class=\"toc-item-num\">4.4&nbsp;&nbsp;</span>Sistema real - <a href=\"https://en.wikipedia.org/wiki/IEEE_754\" target=\"_blank\">IEEE 754</a> sistema binario de punto flotante</a></span><ul class=\"toc-item\"><li><span><a href=\"#Precisión-simple\" data-toc-modified-id=\"Precisión-simple-4.4.1\"><span class=\"toc-item-num\">4.4.1&nbsp;&nbsp;</span>Precisión simple</a></span></li><li><span><a href=\"#Precisión-doble\" data-toc-modified-id=\"Precisión-doble-4.4.2\"><span class=\"toc-item-num\">4.4.2&nbsp;&nbsp;</span>Precisión doble</a></span></li></ul></li><li><span><a href=\"#Acceso-de-Python-a-números-de-la-IEEE\" data-toc-modified-id=\"Acceso-de-Python-a-números-de-la-IEEE-4.5\"><span class=\"toc-item-num\">4.5&nbsp;&nbsp;</span>Acceso de Python a números de la IEEE</a></span></li><li><span><a href=\"#Calculo-&quot;manual&quot;-del-$\\epsilon_{mach}$\" data-toc-modified-id=\"Calculo-&quot;manual&quot;-del-$\\epsilon_{mach}$-4.6\"><span class=\"toc-item-num\">4.6&nbsp;&nbsp;</span>Calculo \"manual\" del $\\epsilon_{mach}$</a></span></li></ul></li><li><span><a href=\"#Por-qué-debería-importarnos-esto?\" data-toc-modified-id=\"Por-qué-debería-importarnos-esto?-5\"><span class=\"toc-item-num\">5&nbsp;&nbsp;</span>Por qué debería importarnos esto?</a></span><ul class=\"toc-item\"><li><span><a href=\"#Ejemplo-1:-Aritmética-simple\" data-toc-modified-id=\"Ejemplo-1:-Aritmética-simple-5.1\"><span class=\"toc-item-num\">5.1&nbsp;&nbsp;</span>Ejemplo 1: Aritmética simple</a></span></li><li><span><a href=\"#Ejemplo-2:-Cancelación-catastrófica\" data-toc-modified-id=\"Ejemplo-2:-Cancelación-catastrófica-5.2\"><span class=\"toc-item-num\">5.2&nbsp;&nbsp;</span>Ejemplo 2: Cancelación catastrófica</a></span></li><li><span><a href=\"#Ejemplo-3:-Evaluación-de-una-función\" data-toc-modified-id=\"Ejemplo-3:-Evaluación-de-una-función-5.3\"><span class=\"toc-item-num\">5.3&nbsp;&nbsp;</span>Ejemplo 3: Evaluación de una función</a></span></li><li><span><a href=\"#Ejemplo-4:-Evaluación-de-un-Polinomio\" data-toc-modified-id=\"Ejemplo-4:-Evaluación-de-un-Polinomio-5.4\"><span class=\"toc-item-num\">5.4&nbsp;&nbsp;</span>Ejemplo 4: Evaluación de un Polinomio</a></span></li><li><span><a href=\"#Ejemplo-5:-Evaluación-de-una-función-racional\" data-toc-modified-id=\"Ejemplo-5:-Evaluación-de-una-función-racional-5.5\"><span class=\"toc-item-num\">5.5&nbsp;&nbsp;</span>Ejemplo 5: Evaluación de una función racional</a></span></li></ul></li><li><span><a href=\"#Combinación-de-error\" data-toc-modified-id=\"Combinación-de-error-6\"><span class=\"toc-item-num\">6&nbsp;&nbsp;</span>Combinación de error</a></span><ul class=\"toc-item\"><li><span><a href=\"#Ejemplo-1:\" data-toc-modified-id=\"Ejemplo-1:-6.1\"><span class=\"toc-item-num\">6.1&nbsp;&nbsp;</span>Ejemplo 1:</a></span></li><li><span><a href=\"#Ejemplo-2:\" data-toc-modified-id=\"Ejemplo-2:-6.2\"><span class=\"toc-item-num\">6.2&nbsp;&nbsp;</span>Ejemplo 2:</a></span></li><li><span><a href=\"#Ejemplo-3:-Error-relativo\" data-toc-modified-id=\"Ejemplo-3:-Error-relativo-6.3\"><span class=\"toc-item-num\">6.3&nbsp;&nbsp;</span>Ejemplo 3: Error relativo</a></span></li></ul></li><li><span><a href=\"#Operaciones-de-conteo\" data-toc-modified-id=\"Operaciones-de-conteo-7\"><span class=\"toc-item-num\">7&nbsp;&nbsp;</span>Operaciones de conteo</a></span><ul class=\"toc-item\"><li><span><a href=\"#Ejemplo-1:-Multiplicación-matriz---vector\" data-toc-modified-id=\"Ejemplo-1:-Multiplicación-matriz---vector-7.1\"><span class=\"toc-item-num\">7.1&nbsp;&nbsp;</span>Ejemplo 1: Multiplicación matriz - vector</a></span></li><li><span><a href=\"#Ejemplo-2:-Método-de-Horner-para-evaluar-polinomios\" data-toc-modified-id=\"Ejemplo-2:-Método-de-Horner-para-evaluar-polinomios-7.2\"><span class=\"toc-item-num\">7.2&nbsp;&nbsp;</span>Ejemplo 2: Método de Horner para evaluar polinomios</a></span></li><li><span><a href=\"#Algoritmo\" data-toc-modified-id=\"Algoritmo-7.3\"><span class=\"toc-item-num\">7.3&nbsp;&nbsp;</span>Algoritmo</a></span></li></ul></li></ul></div>"
   ]
  },
  {
   "cell_type": "code",
   "execution_count": 2,
   "metadata": {},
   "outputs": [
    {
     "name": "stdout",
     "output_type": "stream",
     "text": [
      "Looking in indexes: https://pypi.org/simple, https://pypi.ngc.nvidia.com\n",
      "Requirement already satisfied: sympy in c:\\users\\roman\\anaconda3\\lib\\site-packages (1.9)\n",
      "Requirement already satisfied: mpmath>=0.19 in c:\\users\\roman\\anaconda3\\lib\\site-packages (from sympy) (1.2.1)\n"
     ]
    }
   ],
   "source": [
    "#Bibliotecas a ser utilizadas en el Notebook\n",
    "!pip install sympy\n",
    "\n",
    "import numpy as np\n",
    "import matplotlib.pyplot as plt\n",
    "import sympy\n",
    "import scipy.special"
   ]
  },
  {
   "cell_type": "markdown",
   "metadata": {},
   "source": [
    "## Fuentes de error"
   ]
  },
  {
   "cell_type": "markdown",
   "metadata": {},
   "source": [
    "Los cálculos numéricos, que involucran el uso de máquinas (análogas o digitales) presentan una serie de errores que provienen de diferentes fuentes:\n",
    "\n",
    "- del Modelo\n",
    "\n",
    "- de los datos\n",
    "\n",
    "- de truncamiento\n",
    "\n",
    "- de representación de los números (punto flotante)\n",
    "\n",
    "- $ \\ldots$\n",
    "\n",
    "***Meta:*** Categorizar y entender cada tipo de error y explorar algunas aproximaciones simples para analizarlas."
   ]
  },
  {
   "cell_type": "markdown",
   "metadata": {},
   "source": [
    "[Volver a la Tabla de Contenido](#TOC)"
   ]
  },
  {
   "cell_type": "markdown",
   "metadata": {},
   "source": [
    "### Error en el modelo y los datos"
   ]
  },
  {
   "cell_type": "markdown",
   "metadata": {},
   "source": [
    "Errores en la formulación fundamental\n",
    "\n",
    "- Error en los datos: imprecisiones en las mediciones o incertezas en los parámetros\n",
    "\n",
    "Desafortunadamente no tenemos control de los errores en los datos y el modelo de forma directa pero podemos usar métodos que pueden ser más robustos en la presencia de estos tipos de errores."
   ]
  },
  {
   "cell_type": "markdown",
   "metadata": {},
   "source": [
    "[Volver a la Tabla de Contenido](#TOC)"
   ]
  },
  {
   "cell_type": "markdown",
   "metadata": {},
   "source": [
    "### Error de truncamiento"
   ]
  },
  {
   "cell_type": "markdown",
   "metadata": {},
   "source": [
    "Los errores surgen de la expansión de funciones con una función simple, por ejemplo, $sin(x) \\approx x$ para $|x|\\approx0$."
   ]
  },
  {
   "cell_type": "markdown",
   "metadata": {},
   "source": [
    "[Volver a la Tabla de Contenido](#TOC)"
   ]
  },
  {
   "cell_type": "markdown",
   "metadata": {},
   "source": [
    "### Error de  representación de punto fotante"
   ]
  },
  {
   "cell_type": "markdown",
   "metadata": {},
   "source": [
    "Los errores surgen de aproximar números reales con la representación  en precisión finita de números en el computador."
   ]
  },
  {
   "cell_type": "markdown",
   "metadata": {},
   "source": [
    "[Volver a la Tabla de Contenido](#TOC)"
   ]
  },
  {
   "cell_type": "markdown",
   "metadata": {},
   "source": [
    "### Definiciones básicas"
   ]
  },
  {
   "cell_type": "markdown",
   "metadata": {},
   "source": [
    "Dado un valor verdadero de una función $f$ y una solución aproximada $F$, se define:"
   ]
  },
  {
   "cell_type": "markdown",
   "metadata": {},
   "source": [
    "#### Error absoluto"
   ]
  },
  {
   "cell_type": "markdown",
   "metadata": {},
   "source": [
    "$$e_a=|f-F|$$\n",
    "\n",
    "\n",
    "***Ejemplo:*** se realiza una medición y se obtiene un valor aproximado de $29.99$ *m*. Asumiendo que el valor exacto de dicha medición debería ser de $30.00$ *m*, ¿cuál es el error absoluto obtenido? Cuál sería el error absoluto si se disminuye un orden de magnitud las cantidades?"
   ]
  },
  {
   "cell_type": "code",
   "execution_count": 1,
   "metadata": {},
   "outputs": [],
   "source": [
    "f = 30.0\n",
    "F = 29.9"
   ]
  },
  {
   "cell_type": "code",
   "execution_count": 2,
   "metadata": {},
   "outputs": [
    {
     "name": "stdout",
     "output_type": "stream",
     "text": [
      "0.1000\n"
     ]
    }
   ],
   "source": [
    "ea = abs(f - F)\n",
    "print(\"{0:6.4f}\".format(ea)) "
   ]
  },
  {
   "cell_type": "code",
   "execution_count": 3,
   "metadata": {},
   "outputs": [],
   "source": [
    "# reduciendo un órden de magnitud las cantidades\n",
    "\n",
    "f = 3.0\n",
    "F = 2.9"
   ]
  },
  {
   "cell_type": "code",
   "execution_count": 4,
   "metadata": {},
   "outputs": [
    {
     "name": "stdout",
     "output_type": "stream",
     "text": [
      "0.1000\n"
     ]
    }
   ],
   "source": [
    "ea = abs(f - F)\n",
    "print(\"{0:6.4f}\".format(ea)) "
   ]
  },
  {
   "cell_type": "markdown",
   "metadata": {},
   "source": [
    "Se observa que el valor del error absoluto es igual ($\\approx 0.1$), independiente de la magnitud de las cantidades. "
   ]
  },
  {
   "cell_type": "markdown",
   "metadata": {},
   "source": [
    "[Volver a la Tabla de Contenido](#TOC)"
   ]
  },
  {
   "cell_type": "markdown",
   "metadata": {},
   "source": [
    "#### Error relativo"
   ]
  },
  {
   "cell_type": "markdown",
   "metadata": {},
   "source": [
    "$$e_r (\\%)= \\frac{e_a}{|f|}=\\frac{|f-F|}{|f|} \\times 100 \\%$$\n",
    "\n",
    "\n",
    "***Ejemplo:*** Repetir el ejemplo anterior, pero calculando el error relativo porcentual."
   ]
  },
  {
   "cell_type": "code",
   "execution_count": 5,
   "metadata": {},
   "outputs": [],
   "source": [
    "f = 30.0\n",
    "F = 29.9"
   ]
  },
  {
   "cell_type": "code",
   "execution_count": 6,
   "metadata": {},
   "outputs": [
    {
     "name": "stdout",
     "output_type": "stream",
     "text": [
      "0.3333%\n"
     ]
    }
   ],
   "source": [
    "er = abs(f - F) / f * 100\n",
    "print(\"{0:6.4f}%\".format(er))"
   ]
  },
  {
   "cell_type": "code",
   "execution_count": 7,
   "metadata": {},
   "outputs": [],
   "source": [
    "# reduciendo un órden de magnitud las cantidades\n",
    "\n",
    "f = 3.0\n",
    "F = 2.9"
   ]
  },
  {
   "cell_type": "code",
   "execution_count": 10,
   "metadata": {},
   "outputs": [
    {
     "name": "stdout",
     "output_type": "stream",
     "text": [
      "3.3333%\n"
     ]
    }
   ],
   "source": [
    "er = abs(f - F) / f * 100\n",
    "print(\"{0:6.4f}%\".format(er))"
   ]
  },
  {
   "cell_type": "markdown",
   "metadata": {},
   "source": [
    "Se observa que los resultados son diferentes y es mayor cuando las cantidades medidas son menores.\n",
    "\n",
    "Entre las dos formas de representar el error, la relativa es más consistente con la magnitud de lo que se está midiendo."
   ]
  },
  {
   "cell_type": "markdown",
   "metadata": {},
   "source": [
    "[Volver a la Tabla de Contenido](#TOC)"
   ]
  },
  {
   "cell_type": "markdown",
   "metadata": {},
   "source": [
    "## Notación $\\text{Big}-\\mathcal{O}$"
   ]
  },
  {
   "cell_type": "markdown",
   "metadata": {},
   "source": [
    "sea $$f(x)= \\mathcal{O}(g(x)) \\text{ cuando } x \\rightarrow a$$\n",
    "\n",
    "si y solo si\n",
    "\n",
    "$$|f(x)|\\leq M|g(x)| \\text{ cuando } |x-a| < \\delta \\text{ donde } M, a > 0$$\n",
    "\n",
    "\n",
    "En la práctica, usamos la notación $\\text{Big}-\\mathcal{O}$ para decir algo sobre cómo se pueden comportar los términos que podemos haber dejado fuera de una serie. Veamos el siguiente ejemplo de la aproximación de la serie de Taylor:"
   ]
  },
  {
   "cell_type": "markdown",
   "metadata": {},
   "source": [
    "***Ejemplo:***\n",
    "\n",
    "sea $f(x) = \\sin(x)$ con $x_0 = 0$ entonces\n",
    "\n",
    "$$T_N(x) = \\sum^N_{n=0} (-1)^{n} \\frac{x^{2n+1}}{(2n+1)!}$$\n",
    "\n",
    "Podemos escribir $f(x)$ como\n",
    "\n",
    "$$f(x) = x - \\frac{x^3}{6} + \\frac{x^5}{120} + \\mathcal{O}(x^7)$$\n",
    "\n",
    "Esto se vuelve más útil cuando lo vemos como lo hicimos antes con $\\Delta x$:\n",
    "\n",
    "$$f(x) = \\Delta x - \\frac{\\Delta x^3}{6} + \\frac{\\Delta x^5}{120} + \\mathcal{O}(\\Delta x^7)$$"
   ]
  },
  {
   "cell_type": "markdown",
   "metadata": {},
   "source": [
    "[Volver a la Tabla de Contenido](#TOC)"
   ]
  },
  {
   "cell_type": "markdown",
   "metadata": {},
   "source": [
    "### Reglas para el error de propagación basado en la notación $\\text{Big}-\\mathcal{O}$"
   ]
  },
  {
   "cell_type": "markdown",
   "metadata": {},
   "source": [
    "En general, existen dos teoremas que no necesitan prueba y se mantienen cuando el valor de $x$ es grande:\n",
    "\n",
    "Sea\n",
    "\n",
    "$$\\begin{aligned}\n",
    "    f(x) &= p(x) + \\mathcal{O}(x^n) \\\\\n",
    "    g(x) &= q(x) + \\mathcal{O}(x^m) \\\\\n",
    "    k &= \\max(n, m)\n",
    "\\end{aligned}$$\n",
    "\n",
    "Entonces\n",
    "\n",
    "$$\n",
    "    f+g = p + q + \\mathcal{O}(x^k)\n",
    "$$\n",
    "\n",
    "y\n",
    "\n",
    "\\begin{align}\n",
    "    f \\cdot g &= p \\cdot q + p \\mathcal{O}(x^m) + q \\mathcal{O}(x^n) + O(x^{n + m}) \\\\\n",
    "    &= p \\cdot q + \\mathcal{O}(x^{n+m})\n",
    "\\end{align}"
   ]
  },
  {
   "cell_type": "markdown",
   "metadata": {},
   "source": [
    "De otra forma, si estamos interesados en valores pequeños de $x$, $\\Delta x$, la expresión puede ser modificada como sigue:\n",
    "\n",
    "\\begin{align}\n",
    "    f(\\Delta x) &= p(\\Delta x) + \\mathcal{O}(\\Delta x^n) \\\\\n",
    "    g(\\Delta x) &= q(\\Delta x) + \\mathcal{O}(\\Delta x^m) \\\\\n",
    "    r &= \\min(n, m)\n",
    "\\end{align}\n",
    "\n",
    "entonces\n",
    "\n",
    "$$\n",
    "    f+g = p + q + O(\\Delta x^r)\n",
    "$$\n",
    "\n",
    "y\n",
    "\n",
    "\\begin{align}\n",
    "    f \\cdot g &= p \\cdot q + p \\cdot \\mathcal{O}(\\Delta x^m) + q \\cdot \\mathcal{O}(\\Delta x^n) + \\mathcal{O}(\\Delta x^{n+m}) \\\\\n",
    "    &= p \\cdot q + \\mathcal{O}(\\Delta x^r)\n",
    "\\end{align}"
   ]
  },
  {
   "cell_type": "markdown",
   "metadata": {},
   "source": [
    "***Nota:*** En este caso, supongamos que al menos el polinomio con $k=max(n,m)$ tiene la siguiente forma:\n",
    "\n",
    "$$\n",
    "    p(\\Delta x) = 1 + p_1 \\Delta x + p_2 \\Delta x^2 + \\ldots\n",
    "$$\n",
    "\n",
    "o\n",
    "\n",
    "$$\n",
    "    q(\\Delta x) = 1 + q_1 \\Delta x + q_2 \\Delta x^2 + \\ldots\n",
    "$$\n",
    "\n",
    "para que $\\mathcal{O}(1)$ \n",
    "\n",
    "\n",
    "de modo que hay un término $\\mathcal{O}(1)$ que garantiza la existencia de $\\mathcal{O}(\\Delta x^r)$ en el producto final."
   ]
  },
  {
   "cell_type": "markdown",
   "metadata": {},
   "source": [
    "Para tener una idea de por qué importa más la potencia en $\\Delta x$ al considerar la convergencia, la siguiente figura muestra cómo las diferentes potencias en la tasa de convergencia pueden afectar la rapidez con la que converge nuestra solución. Tenga en cuenta que aquí estamos dibujando los mismos datos de dos maneras diferentes. Graficar el error como una función de $\\Delta x$ es una forma común de mostrar que un método numérico está haciendo lo que esperamos y muestra el comportamiento de convergencia correcto. Dado que los errores pueden reducirse rápidamente, es muy común trazar este tipo de gráficos en una escala log-log para visualizar fácilmente los resultados. Tenga en cuenta que si un método fuera realmente del orden $n$, será una función lineal en el espacio log-log con pendiente $n$."
   ]
  },
  {
   "cell_type": "code",
   "execution_count": 11,
   "metadata": {},
   "outputs": [
    {
     "data": {
      "image/png": "[encoded data removed]",
      "text/plain": [
       "<Figure size 864x288 with 2 Axes>"
      ]
     },
     "metadata": {
      "needs_background": "light"
     },
     "output_type": "display_data"
    }
   ],
   "source": [
    "dx = np.linspace(1.0, 1e-4, 100)\n",
    "\n",
    "fig = plt.figure()\n",
    "fig.set_figwidth(fig.get_figwidth() * 2.0)\n",
    "axes = []\n",
    "axes.append(fig.add_subplot(1, 2, 1))\n",
    "axes.append(fig.add_subplot(1, 2, 2))\n",
    "\n",
    "for n in range(1, 5):\n",
    "    axes[0].plot(dx, dx**n, label=\"$\\Delta x^%s$\" % n)\n",
    "    axes[1].loglog(dx, dx**n, label=\"$\\Delta x^%s$\" % n)\n",
    "\n",
    "axes[0].legend(loc=2)\n",
    "axes[1].set_xticks([10.0**(-n) for n in range(5)])\n",
    "axes[1].set_yticks([10.0**(-n) for n in range(16)])\n",
    "axes[1].legend(loc=4)\n",
    "for n in range(2):\n",
    "    axes[n].set_title(\"Crecimiento del Error vs. $\\Delta x^n$\")\n",
    "    axes[n].set_xlabel(\"$\\Delta x$\")\n",
    "    axes[n].set_ylabel(\"Error Estimado\")\n",
    "    axes[n].set_title(\"Crecimiento de las diferencias\")\n",
    "    axes[n].set_xlabel(\"$\\Delta x$\")\n",
    "    axes[n].set_ylabel(\"Error Estimado\")\n",
    "\n",
    "plt.show()"
   ]
  },
  {
   "cell_type": "markdown",
   "metadata": {},
   "source": [
    "[Volver a la Tabla de Contenido](#TOC)"
   ]
  },
  {
   "cell_type": "markdown",
   "metadata": {},
   "source": [
    "## Error de truncamiento"
   ]
  },
  {
   "cell_type": "markdown",
   "metadata": {},
   "source": [
    "***Teorema de Taylor:*** Sea $f(x) \\in C^{m+1}[a,b]$ y $x_0 \\in [a,b]$, para todo $x \\in (a,b)$ existe un número $c = c(x)$ que se encuentra entre $x_0$ y $x$ tal que\n",
    "\n",
    "$$ f(x) = T_N(x) + R_N(x)$$\n",
    "\n",
    "donde $T_N(x)$ es la aproximación del polinomio de Taylor\n",
    "\n",
    "$$T_N(x) = \\sum^N_{n=0} \\frac{f^{(n)}(x_0)\\times(x-x_0)^n}{n!}$$\n",
    "\n",
    "y $R_N(x)$ es el residuo (la parte de la serie que obviamos)\n",
    "\n",
    "$$R_N(x) = \\frac{f^{(n+1)}(c) \\times (x - x_0)^{n+1}}{(n+1)!}$$"
   ]
  },
  {
   "cell_type": "markdown",
   "metadata": {},
   "source": [
    "Otra forma de pensar acerca de estos resultados consiste en reemplazar $x - x_0$ con $\\Delta x$. La idea principal es que el residuo $R_N(x)$ se vuelve mas pequeño cuando $\\Delta x \\rightarrow 0$.\n",
    "\n",
    "$$T_N(x) = \\sum^N_{n=0} \\frac{f^{(n)}(x_0)\\times \\Delta x^n}{n!}$$\n",
    "\n",
    "y $R_N(x)$ es el residuo (la parte de la serie que obviamos)\n",
    "\n",
    "$$ R_N(x) = \\frac{f^{(n+1)}(c) \\times \\Delta x^{n+1}}{(n+1)!} \\leq M \\Delta x^{n+1}$$"
   ]
  },
  {
   "cell_type": "markdown",
   "metadata": {},
   "source": [
    "***Ejemplo 1:***\n",
    "\n",
    "$f(x) = e^x$ con $x_0 = 0$\n",
    "\n",
    "Usando esto podemos encontrar expresiones para el error relativo y absoluto en función de $x$ asumiendo $N=2$."
   ]
  },
  {
   "cell_type": "markdown",
   "metadata": {},
   "source": [
    "Derivadas:\n",
    "$$\\begin{aligned}\n",
    "    f'(x) &= e^x \\\\\n",
    "    f''(x) &= e^x \\\\ \n",
    "    f^{(n)}(x) &= e^x\n",
    "\\end{aligned}$$\n",
    "\n",
    "Polinomio de Taylor:\n",
    "$$\\begin{aligned}\n",
    "    T_N(x) &= \\sum^N_{n=0} e^0 \\frac{x^n}{n!} \\Rightarrow \\\\\n",
    "    T_2(x) &= 1 + x + \\frac{x^2}{2}\n",
    "\\end{aligned}$$\n",
    "\n",
    "Restos:\n",
    "$$\\begin{aligned}\n",
    "    R_N(x) &= e^c \\frac{x^{n+1}}{(n+1)!} = e^c \\times \\frac{x^3}{6} \\quad \\Rightarrow \\\\\n",
    "    R_2(x) &\\leq \\frac{e^1}{6} \\approx 0.5\n",
    "\\end{aligned}$$\n",
    "\n",
    "Precisión:\n",
    "$$\n",
    "    e^1 = 2.718\\ldots \\\\\n",
    "    T_2(1) = 2.5 \\Rightarrow e \\approx 0.2 ~~ r \\approx 0.1\n",
    "$$"
   ]
  },
  {
   "cell_type": "markdown",
   "metadata": {},
   "source": [
    "¡También podemos usar el paquete `sympy` que tiene la capacidad de calcular el polinomio de *Taylor* integrado!"
   ]
  },
  {
   "cell_type": "code",
   "execution_count": 12,
   "metadata": {},
   "outputs": [
    {
     "data": {
      "text/latex": [
       "$\\displaystyle 1 + x + \\frac{x^{2}}{2} + \\frac{x^{3}}{6} + \\frac{x^{4}}{24} + \\frac{x^{5}}{120} + \\frac{x^{6}}{720} + \\frac{x^{7}}{5040} + \\frac{x^{8}}{40320} + \\frac{x^{9}}{362880} + \\frac{x^{10}}{3628800} + O\\left(x^{11}\\right)$"
      ],
      "text/plain": [
       "1 + x + x**2/2 + x**3/6 + x**4/24 + x**5/120 + x**6/720 + x**7/5040 + x**8/40320 + x**9/362880 + x**10/3628800 + O(x**11)"
      ]
     },
     "execution_count": 12,
     "metadata": {},
     "output_type": "execute_result"
    }
   ],
   "source": [
    "x = sympy.symbols('x')\n",
    "f = sympy.symbols('f', cls=sympy.Function)\n",
    "\n",
    "f = sympy.exp(x)\n",
    "f.series(x0=0, n=11)"
   ]
  },
  {
   "cell_type": "code",
   "execution_count": 13,
   "metadata": {},
   "outputs": [
    {
     "name": "stdout",
     "output_type": "stream",
     "text": [
      "4.9698419673124674e+20\n"
     ]
    }
   ],
   "source": [
    "a = 1.1**500\n",
    "\n",
    "print(a)"
   ]
  },
  {
   "cell_type": "markdown",
   "metadata": {},
   "source": [
    "Graficando"
   ]
  },
  {
   "cell_type": "code",
   "execution_count": 14,
   "metadata": {},
   "outputs": [
    {
     "data": {
      "image/png": "[encoded data removed]",
      "text/plain": [
       "<Figure size 432x288 with 1 Axes>"
      ]
     },
     "metadata": {
      "needs_background": "light"
     },
     "output_type": "display_data"
    }
   ],
   "source": [
    "x = np.linspace(-5, 5, 100)\n",
    "T_N = 1.0 + x + x**2 / 2.0 + x**3 / 6.0 + x**4 / 24.0 + x**5 / 120.0 + x**6 / 720.0 + x**7 / 5040.0 + x**8 / 40320.0 + x**9 / 362880\n",
    "R_N = np.exp(1) * x**10 / 3628800.0\n",
    "\n",
    "plt.plot(x, T_N, 'r', x, np.exp(x), 'k', x, R_N, 'b')\n",
    "plt.plot(0.0, 1.0, 'o', markersize=10)\n",
    "plt.grid(True)\n",
    "plt.xlabel(\"x\")\n",
    "plt.ylabel(\"$f(x)$, $T_N(x)$, $R_N(x)$\")\n",
    "plt.legend([\"$T_N(x)$\", \"$f(x)$\", \"$R_N(x)$\"], loc=2)\n",
    "plt.show()"
   ]
  },
  {
   "cell_type": "code",
   "execution_count": 15,
   "metadata": {},
   "outputs": [
    {
     "data": {
      "text/plain": [
       "array([7.31528907e+00, 5.96481377e+00, 4.84301260e+00, 3.91479506e+00,\n",
       "       3.14987609e+00, 2.52220053e+00, 2.00942626e+00, 1.59246099e+00,\n",
       "       1.25504839e+00, 9.83398939e-01, 7.65861890e-01, 5.92634320e-01,\n",
       "       4.55503985e-01, 3.47622715e-01, 2.63307381e-01, 1.97865672e-01,\n",
       "       1.47444159e-01, 1.08896297e-01, 7.96682066e-02, 5.77002768e-02,\n",
       "       4.13427787e-02, 2.92838452e-02, 2.04883244e-02, 1.41461495e-02,\n",
       "       9.62900268e-03, 6.45416920e-03, 4.25459402e-03, 2.75425841e-03,\n",
       "       1.74809126e-03, 1.08572069e-03, 6.58454267e-04, 3.88952697e-04,\n",
       "       2.23131040e-04, 1.23885063e-04, 6.62973981e-05, 3.40298101e-05,\n",
       "       1.66539474e-05, 7.71399998e-06, 3.35087253e-06, 1.34918807e-06,\n",
       "       4.95924491e-07, 1.63068006e-07, 4.66436080e-08, 1.11509808e-08,\n",
       "       2.09800442e-09, 2.82036061e-10, 2.28486185e-11, 7.89913597e-13,\n",
       "       4.77630546e-15, 8.08871524e-20, 8.08871524e-20, 4.77630546e-15,\n",
       "       7.89913597e-13, 2.28486185e-11, 2.82036061e-10, 2.09800442e-09,\n",
       "       1.11509808e-08, 4.66436080e-08, 1.63068006e-07, 4.95924491e-07,\n",
       "       1.34918807e-06, 3.35087253e-06, 7.71399998e-06, 1.66539474e-05,\n",
       "       3.40298101e-05, 6.62973981e-05, 1.23885063e-04, 2.23131040e-04,\n",
       "       3.88952697e-04, 6.58454267e-04, 1.08572069e-03, 1.74809126e-03,\n",
       "       2.75425841e-03, 4.25459402e-03, 6.45416920e-03, 9.62900268e-03,\n",
       "       1.41461495e-02, 2.04883244e-02, 2.92838452e-02, 4.13427787e-02,\n",
       "       5.77002768e-02, 7.96682066e-02, 1.08896297e-01, 1.47444159e-01,\n",
       "       1.97865672e-01, 2.63307381e-01, 3.47622715e-01, 4.55503985e-01,\n",
       "       5.92634320e-01, 7.65861890e-01, 9.83398939e-01, 1.25504839e+00,\n",
       "       1.59246099e+00, 2.00942626e+00, 2.52220053e+00, 3.14987609e+00,\n",
       "       3.91479506e+00, 4.84301260e+00, 5.96481377e+00, 7.31528907e+00])"
      ]
     },
     "execution_count": 15,
     "metadata": {},
     "output_type": "execute_result"
    }
   ],
   "source": [
    "R_N"
   ]
  },
  {
   "cell_type": "markdown",
   "metadata": {},
   "source": [
    "***Ejemplo 2:***\n",
    "\n",
    "Aproximar\n",
    "\n",
    "$$ f(x) = \\frac{1}{x} \\quad x_0  = 1,$$\n",
    "\n",
    "usando $x_0 = 1$ para el tercer termino de la serie de Taylor."
   ]
  },
  {
   "cell_type": "markdown",
   "metadata": {},
   "source": [
    "$$\\begin{aligned}\n",
    "    f'(x) &= -\\frac{1}{x^2} \\\\\n",
    "    f''(x) &= \\frac{2}{x^3} \\\\\n",
    "    f^{(n)}(x) &= \\frac{(-1)^n n!}{x^{n+1}}\n",
    "\\end{aligned}$$\n",
    "\n",
    "$$\\begin{aligned}\n",
    "    T_N(x) &= \\sum^N_{n=0} (-1)^n (x-1)^n \\Rightarrow \\\\\n",
    "    T_2(x) &= 1 - (x - 1) + (x - 1)^2\n",
    "\\end{aligned}$$\n",
    "\n",
    "$$\\begin{aligned}\n",
    "    R_N(x) &= \\frac{(-1)^{n+1}(x - 1)^{n+1}}{c^{n+2}} \\Rightarrow \\\\\n",
    "    R_2(x) &= \\frac{-(x - 1)^{3}}{c^{4}}\n",
    "\\end{aligned}$$"
   ]
  },
  {
   "cell_type": "code",
   "execution_count": 16,
   "metadata": {
    "scrolled": true
   },
   "outputs": [
    {
     "data": {
      "image/png": "[encoded data removed]",
      "text/plain": [
       "<Figure size 432x288 with 1 Axes>"
      ]
     },
     "metadata": {
      "needs_background": "light"
     },
     "output_type": "display_data"
    }
   ],
   "source": [
    "x = np.linspace(0.8, 2, 100)\n",
    "T_N = 1.0 - (x-1) + (x-1)**2\n",
    "R_N = -(x-1.0)**3 / (1.1**4)\n",
    "\n",
    "plt.plot(x, T_N, 'r', x, 1.0 / x, 'k', x, R_N, 'b')\n",
    "plt.plot(1.0, 1.0, 'o', markersize=10)\n",
    "plt.grid(True)\n",
    "plt.xlabel(\"x\")\n",
    "plt.ylabel(\"$f(x)$, $T_N(x)$, $R_N(x)$\")\n",
    "\n",
    "plt.legend([\"$T_N(x)$\", \"$f(x)$\", \"$R_N(x)$\"], loc=8)\n",
    "plt.show()"
   ]
  },
  {
   "cell_type": "markdown",
   "metadata": {},
   "source": [
    "[Volver a la Tabla de Contenido](#TOC)"
   ]
  },
  {
   "cell_type": "markdown",
   "metadata": {},
   "source": [
    "## Error de punto flotante"
   ]
  },
  {
   "cell_type": "markdown",
   "metadata": {},
   "source": [
    "Errores surgen de aproximar números reales con números de precisión finita\n",
    "\n",
    "$$\\pi \\approx 3.14$$\n",
    "\n",
    "o $\\frac{1}{3} \\approx 0.333333333$ en decimal, los resultados forman un número finito de registros para representar cada número."
   ]
  },
  {
   "cell_type": "markdown",
   "metadata": {},
   "source": [
    "***Ej.:*** considere la representación de $\\sqrt{2}=1.4142 \\ldots$. Como sabemos, éste es un número irracional, es decir, tiene una cantidad infinita de dígitos decimales. El computador almacena de forma incompleta la represenación de ese valor empleando cierta cantidad de números decimales"
   ]
  },
  {
   "cell_type": "markdown",
   "metadata": {},
   "source": [
    "$$2 - (\\sqrt{2})^2$$"
   ]
  },
  {
   "cell_type": "code",
   "execution_count": 17,
   "metadata": {
    "scrolled": true
   },
   "outputs": [
    {
     "name": "stdout",
     "output_type": "stream",
     "text": [
      "a:  1.4142135623730951\n"
     ]
    }
   ],
   "source": [
    "a = np.sqrt(2)\n",
    "print(\"a: \", a)"
   ]
  },
  {
   "cell_type": "code",
   "execution_count": 18,
   "metadata": {
    "scrolled": true
   },
   "outputs": [
    {
     "name": "stdout",
     "output_type": "stream",
     "text": [
      "|2-a^2| =  4.440892098500626e-16\n"
     ]
    }
   ],
   "source": [
    "b = abs(2-a**2)\n",
    "print(\"|2-a^2| = \", b)"
   ]
  },
  {
   "cell_type": "markdown",
   "metadata": {},
   "source": [
    "[Volver a la Tabla de Contenido](#TOC)"
   ]
  },
  {
   "cell_type": "markdown",
   "metadata": {},
   "source": [
    "### Aritmética de punto flotante"
   ]
  },
  {
   "cell_type": "markdown",
   "metadata": {},
   "source": [
    "Los números en sistemas de [punto flotante](https://en.wikipedia.org/wiki/Floating-point_arithmetic \"Floating point arithmetic\") se representan como una serie de bits que representan diferentes partes de un número. En los sistemas de punto flotante normalizados, existen algunas convenciones estándar para el uso de estos bits. En general, los números se almacenan dividiéndolos en la forma\n",
    "\n",
    "$$fl(x) = \\pm (0.d_1 d_2 d_3 \\ldots d_p)_\\beta \\times \\beta^E$$\n",
    "\n",
    "donde los digitos $\\{d_i\\}_{i=1}^p$ son enteros tales que $0\\leq d_i \\leq \\beta-1$ y $d_1 \\neq 0$\n",
    "\n",
    "El sistema se caracteriza por cuatro números enteros:\n",
    "\n",
    "- la *base* $\\beta>1$. Para el sistema binario $\\beta = 2$, para decimal $\\beta = 10$, etc.\n",
    "\n",
    "\n",
    "- La precisión $p \\geq 1$, que representa la cantidad de dígitos significativos, y\n",
    "\n",
    "\n",
    "- el *exponente* $E$, que es un entero en el rango $[E_{\\min}, E_{\\max}]$\n",
    "\n",
    "\n",
    "$\\pm$ es un bit único y representa el signo del número.\n",
    "\n",
    "Los puntos importantes en cualquier sistema de punto flotante son:\n",
    "\n",
    "1. Existe un conjunto discreto y finito de números representables.\n",
    "\n",
    "\n",
    "2. Estos números representables no están distribuidos uniformemente en la línea real\n",
    "\n",
    "\n",
    "3. La aritmética en sistemas de punto flotante produce resultados diferentes de la aritmética de precisión infinita (es decir, matemática \"real\")"
   ]
  },
  {
   "cell_type": "markdown",
   "metadata": {},
   "source": [
    "[Volver a la Tabla de Contenido](#TOC)"
   ]
  },
  {
   "cell_type": "markdown",
   "metadata": {},
   "source": [
    "### Notación de punto flotante"
   ]
  },
  {
   "cell_type": "markdown",
   "metadata": {},
   "source": [
    "Es común encontrar la siguiente notación para representar un conjunto de números de punto flotante:\n",
    "\n",
    "$$F(\\beta, p, E_{min}, E_{max})$$"
   ]
  },
  {
   "cell_type": "markdown",
   "metadata": {},
   "source": [
    "[Volver a la Tabla de Contenido](#TOC)"
   ]
  },
  {
   "cell_type": "markdown",
   "metadata": {},
   "source": [
    "### Propiedades de los sistemas de punto flotante"
   ]
  },
  {
   "cell_type": "markdown",
   "metadata": {},
   "source": [
    "Todos los sistemas de punto flotante se caracterizan por varios números importantes\n",
    "\n",
    "- Número normalizado reducido ([*underflow*](https://en.wikipedia.org/wiki/Arithmetic_underflow) si está por debajo, relacionado con números sub-normales alrededor de cero)\n",
    "\n",
    "\n",
    "- Número normalizado más grande ([*overflow*](https://en.wikipedia.org/wiki/Integer_overflow))\n",
    "\n",
    "\n",
    "- Cero\n",
    "\n",
    "\n",
    "- $\\epsilon$ o $\\epsilon_{mach}$\n",
    "\n",
    "\n",
    "- `Inf` y `nan`"
   ]
  },
  {
   "cell_type": "markdown",
   "metadata": {},
   "source": [
    "***Ejemplo: Sistema de juguete***\n",
    "\n",
    "Considere el sistema decimal de 2 digitos de  precisión (normalizado)\n",
    "\n",
    "$$F(10,2,-2,0)$$\n",
    "\n",
    "$$f = \\pm 0.d_1d_2 \\times 10^E$$\n",
    "\n",
    "con $E \\in [-2, 0]$.\n",
    "\n",
    "**Numero y distribución de números**\n",
    "\n",
    "\n",
    "1. Cuántos números pueden representarse con este sistema?\n",
    "\n",
    "\n",
    "2. Cuál es la distribución en la línea real?\n",
    "\n",
    "\n",
    "3. Cuáles son los límites underflow y overflow?"
   ]
  },
  {
   "cell_type": "markdown",
   "metadata": {},
   "source": [
    "Cuántos números pueden representarse con este sistema?\n",
    "\n",
    "$$f = \\pm 0.d_1d_2 \\times 10^E ~~~ \\text{con} ~~~ E \\in [-2, 0]$$\n",
    "\n",
    "$$2 \\times 9 \\times 10 \\times 3 + 1 = 541$$"
   ]
  },
  {
   "cell_type": "markdown",
   "metadata": {},
   "source": [
    "Cuál es la distribución en la recta \"real\"?"
   ]
  },
  {
   "cell_type": "code",
   "execution_count": 14,
   "metadata": {},
   "outputs": [
    {
     "data": {
      "image/png": "[encoded data removed]",
      "text/plain": [
       "<Figure size 720x72 with 1 Axes>"
      ]
     },
     "metadata": {
      "needs_background": "light"
     },
     "output_type": "display_data"
    }
   ],
   "source": [
    "d_1_values = [1, 2, 3, 4, 5, 6, 7, 8, 9]\n",
    "d_2_values = [0, 1, 2, 3, 4, 5, 6, 7, 8, 9]\n",
    "E_values = [0, -1, -2]\n",
    "\n",
    "fig = plt.figure(figsize=(10.0, 1.0))\n",
    "axes = fig.add_subplot(1, 1, 1)\n",
    "\n",
    "for E in E_values:\n",
    "    for d1 in d_1_values:\n",
    "        for d2 in d_2_values:\n",
    "            axes.plot( (d1*0.1 + d2 * 0.01) * 10**E, 0.0, 'b+', markersize=20)\n",
    "            axes.plot(-(d1*0.1 + d2 * 0.01) * 10**E, 0.0, 'r+', markersize=20)\n",
    "            \n",
    "axes.plot(0.0, 0.0, '+', markersize=20)\n",
    "axes.plot([-0.2, 0.2], [0.0, 0.0], 'k')\n",
    "\n",
    "axes.set_title(\"Distribución de Valores\")\n",
    "axes.set_yticks([])\n",
    "axes.set_xlabel(\"x\")\n",
    "axes.set_ylabel(\"\")\n",
    "axes.set_xlim([-0.1, 0.1])\n",
    "plt.show()"
   ]
  },
  {
   "cell_type": "markdown",
   "metadata": {},
   "source": [
    "Cuáles son los límites superior (overflow) e inferior (underflow)?\n",
    "\n",
    "- El menor número que puede ser representado (underflow) es: $1.0 \\times 10^{-2} = 0.01$\n",
    "\n",
    "\n",
    "- El mayor número que puede ser representado (overflow) es:  $9.9 \\times 10^0 = 9.9$"
   ]
  },
  {
   "cell_type": "markdown",
   "metadata": {},
   "source": [
    "[Volver a la Tabla de Contenido](#TOC)"
   ]
  },
  {
   "cell_type": "markdown",
   "metadata": {},
   "source": [
    "### Sistema Binario"
   ]
  },
  {
   "cell_type": "markdown",
   "metadata": {},
   "source": [
    "Considere el sistema en base 2 de 2 dígitos de precisión\n",
    "\n",
    "$$F(2,2,-1,1)$$\n",
    "\n",
    "$$F=\\pm 0.d_1d_2 \\times 2^E \\quad \\text{con} \\quad E \\in [-1, 1]$$\n"
   ]
  },
  {
   "cell_type": "markdown",
   "metadata": {},
   "source": [
    "#### Numero y distribución de números"
   ]
  },
  {
   "cell_type": "markdown",
   "metadata": {},
   "source": [
    "1. Cuántos números pueden representarse con este sistema?\n",
    "\n",
    "\n",
    "2. Cuál es la distribución en la línea real?\n",
    "\n",
    "\n",
    "3. Cuáles son los límites underflow y overflow?"
   ]
  },
  {
   "cell_type": "markdown",
   "metadata": {},
   "source": [
    "## Cuántos números pueden representarse en este sistema?\n",
    "\n",
    "\n",
    "$$f=\\pm 0.d_1d_2d_3 \\times 2^E ~~~~ \\text{con} ~~~~ E \\in [-1, 1]$$\n",
    "\n",
    "$$ 2 \\times 1 \\times 2 \\times 2 \\times 3 + 1 = 25$$"
   ]
  },
  {
   "cell_type": "markdown",
   "metadata": {},
   "source": [
    "Cuál es la distribución en la línea real?"
   ]
  },
  {
   "cell_type": "code",
   "execution_count": 19,
   "metadata": {},
   "outputs": [
    {
     "data": {
      "image/png": "[encoded data removed]",
      "text/plain": [
       "<Figure size 720x72 with 1 Axes>"
      ]
     },
     "metadata": {
      "needs_background": "light"
     },
     "output_type": "display_data"
    }
   ],
   "source": [
    "d_1_values = [1]\n",
    "d_2_values = [0, 1]\n",
    "d_3_values = [0,1]\n",
    "E_values = [-1, 0, 1]\n",
    "\n",
    "fig = plt.figure(figsize=(10.0, 1.0))\n",
    "axes = fig.add_subplot(1, 1, 1)\n",
    "\n",
    "for E in E_values:\n",
    "    for d1 in d_1_values:\n",
    "        for d2 in d_2_values:\n",
    "            for d3 in d_3_values:\n",
    "                axes.plot( (d1*0.5 + d2 * 0.25 + d3*0.125) * 2**E, 0.0, 'r+', markersize=20)\n",
    "                axes.plot(-(d1*0.5 + d2 * 0.25 + d3*0.125)* 2**E, 0.0, 'r+', markersize=20)\n",
    "            \n",
    "axes.plot(0.0, 0.0, 'r+', markersize=20)\n",
    "#axes.plot(0.3, 0.0, 'b+', markersize=20)\n",
    "axes.plot([-3.5, 3.5], [0.0, 0.0], 'k')\n",
    "\n",
    "axes.set_title(\"Distribución de Valores\")\n",
    "axes.set_yticks([])\n",
    "axes.set_xlabel(\"x\")\n",
    "axes.set_ylabel(\"\")\n",
    "axes.set_xlim([-3.5, 3.5])\n",
    "plt.show()"
   ]
  },
  {
   "cell_type": "markdown",
   "metadata": {},
   "source": [
    "Cuáles son los límites superior (*overflow*) e inferior (*underflow*)?\n",
    "\n",
    "- El menor número que puede ser representado (*underflow*) es: $1.0 \\times 2^{-1} = 0.5$\n",
    "\n",
    "\n",
    "\n",
    "\n",
    "- El mayor número que puede ser representado (*overflow*) es:  $1.1 \\times 2^1 = 3$\n",
    "\n",
    "Observe que estos números son en sistema binario. \n",
    "\n",
    "Una rápida regla de oro:\n",
    "\n",
    "$$2^3 2^2 2^1 2^0 . 2^{-1} 2^{-2} 2^{-3}$$\n",
    "\n",
    "corresponde a\n",
    "\n",
    "8s, 4s, 2s, 1s . mitades, cuartos, octavos, $\\ldots$"
   ]
  },
  {
   "cell_type": "markdown",
   "metadata": {},
   "source": [
    "[Volver a la Tabla de Contenido](#TOC)"
   ]
  },
  {
   "cell_type": "markdown",
   "metadata": {},
   "source": [
    "***Ejercicio:*** Cuál sería la representación en punto flotante del siguiente conjunto de números:\n",
    "\n",
    "$$F(2,3,-1,3)$$\n",
    "\n",
    "- Cuántos números se pueden representar?\n",
    "\n",
    "\n",
    "- Cuál sería el menor número representable?\n",
    "\n",
    "\n",
    "- Cuál sería el mayor número?"
   ]
  },
  {
   "cell_type": "markdown",
   "metadata": {},
   "source": [
    "[Volver a la Tabla de Contenido](#TOC)"
   ]
  },
  {
   "cell_type": "markdown",
   "metadata": {},
   "source": [
    "### Sistema real - [IEEE 754](https://en.wikipedia.org/wiki/IEEE_754) sistema binario de punto flotante"
   ]
  },
  {
   "cell_type": "markdown",
   "metadata": {},
   "source": [
    "#### Precisión simple"
   ]
  },
  {
   "cell_type": "markdown",
   "metadata": {},
   "source": [
    "\n",
    "\n",
    "- Almacenamiento total es de 32 bits\n",
    "\n",
    "\n",
    "- Exponente de 8 bits $\\Rightarrow E \\in [-126, 127]$\n",
    "\n",
    "\n",
    "- Fracción 23 bits ($p = 24$)\n",
    "\n",
    "\n",
    "```\n",
    "s EEEEEEEE FFFFFFFFFFFFFFFFFFFFFFF\n",
    "0 1      8 9                     31\n",
    "```\n",
    "\n",
    "Overflow $= 2^{127} \\approx 3.4 \\times 10^{38}$\n",
    "\n",
    "Underflow $= 2^{-126} \\approx 1.2 \\times 10^{-38}$\n",
    "\n",
    "$\\epsilon_{\\text{machine}} = 2^{-23} \\approx 1.2 \\times 10^{-7}$\n"
   ]
  },
  {
   "cell_type": "markdown",
   "metadata": {},
   "source": [
    "[Volver a la Tabla de Contenido](#TOC)"
   ]
  },
  {
   "cell_type": "markdown",
   "metadata": {},
   "source": [
    "#### Precisión doble"
   ]
  },
  {
   "cell_type": "markdown",
   "metadata": {},
   "source": [
    "- Almacenamiento total asignado es 64 bits\n",
    "\n",
    "- Exponenete de 11 bits $\\Rightarrow E \\in [-1022, 1024]$\n",
    "\n",
    "- Fracción de 52 bits ($p = 53$)\n",
    "\n",
    "```\n",
    "s EEEEEEEEEE FFFFFFFFFF FFFFFFFFFF FFFFFFFFFF FFFFFFFFFF FFFFFFFFFF FF\n",
    "0 1       11 12                                                      63\n",
    "```\n",
    "Overflow $= 2^{1024} \\approx 1.8 \\times 10^{308}$\n",
    "\n",
    "Underflow $= 2^{-1022} \\approx 2.2 \\times 10^{-308}$\n",
    "\n",
    "$\\epsilon_{\\text{machine}} = 2^{-52} \\approx 2.2 \\times 10^{-16}$"
   ]
  },
  {
   "cell_type": "markdown",
   "metadata": {},
   "source": [
    "[Volver a la Tabla de Contenido](#TOC)\n"
   ]
  },
  {
   "cell_type": "markdown",
   "metadata": {},
   "source": [
    "### Acceso de Python a números de la IEEE"
   ]
  },
  {
   "cell_type": "markdown",
   "metadata": {},
   "source": [
    "Accede a muchos parámetros importantes, como el epsilon de la máquina\n",
    "\n",
    "```python\n",
    "import numpy as np\n",
    "np.finfo(float).eps\n",
    "```"
   ]
  },
  {
   "cell_type": "code",
   "execution_count": 21,
   "metadata": {
    "scrolled": false
   },
   "outputs": [
    {
     "name": "stdout",
     "output_type": "stream",
     "text": [
      "Machine parameters for float16\n",
      "---------------------------------------------------------------\n",
      "precision =   3   resolution = 1.00040e-03\n",
      "machep =    -10   eps =        9.76562e-04\n",
      "negep =     -11   epsneg =     4.88281e-04\n",
      "minexp =    -14   tiny =       6.10352e-05\n",
      "maxexp =     16   max =        6.55040e+04\n",
      "nexp =        5   min =        -max\n",
      "---------------------------------------------------------------\n",
      "\n",
      "Machine parameters for float32\n",
      "---------------------------------------------------------------\n",
      "precision =   6   resolution = 1.0000000e-06\n",
      "machep =    -23   eps =        1.1920929e-07\n",
      "negep =     -24   epsneg =     5.9604645e-08\n",
      "minexp =   -126   tiny =       1.1754944e-38\n",
      "maxexp =    128   max =        3.4028235e+38\n",
      "nexp =        8   min =        -max\n",
      "---------------------------------------------------------------\n",
      "\n",
      "Machine parameters for float64\n",
      "---------------------------------------------------------------\n",
      "precision =  15   resolution = 1.0000000000000001e-15\n",
      "machep =    -52   eps =        2.2204460492503131e-16\n",
      "negep =     -53   epsneg =     1.1102230246251565e-16\n",
      "minexp =  -1022   tiny =       2.2250738585072014e-308\n",
      "maxexp =   1024   max =        1.7976931348623157e+308\n",
      "nexp =       11   min =        -max\n",
      "---------------------------------------------------------------\n",
      "\n"
     ]
    }
   ],
   "source": [
    "np.finfo(float).eps\n",
    "\n",
    "print(np.finfo(np.float16))\n",
    "print(np.finfo(np.float32))\n",
    "print(np.finfo(float))"
   ]
  },
  {
   "cell_type": "markdown",
   "metadata": {},
   "source": [
    "[Volver a la Tabla de Contenido](#TOC)"
   ]
  },
  {
   "cell_type": "markdown",
   "metadata": {},
   "source": [
    "### Calculo \"manual\" del $\\epsilon_{mach}$"
   ]
  },
  {
   "cell_type": "markdown",
   "metadata": {},
   "source": [
    "La determinación \"manual\" del $\\epsilon_{mach}$ es muy simple. Veamos el siguiente algoritmo"
   ]
  },
  {
   "cell_type": "code",
   "execution_count": 22,
   "metadata": {},
   "outputs": [
    {
     "name": "stdout",
     "output_type": "stream",
     "text": [
      "1.1102230246251565e-16\n"
     ]
    }
   ],
   "source": [
    "eps = 1.0\n",
    "\n",
    "while 1.0 + eps > 1.0:\n",
    "    eps = eps / 2.0\n",
    "    \n",
    "print(eps)"
   ]
  },
  {
   "cell_type": "markdown",
   "metadata": {},
   "source": [
    "Si lo comparamos con el valor obtenido en el numeral anterior para `float64`, `2.2204460492503131e-16`, se observa que es del orden de dos veces menor, por qué?"
   ]
  },
  {
   "cell_type": "markdown",
   "metadata": {},
   "source": [
    "[Volver a la Tabla de Contenido](#TOC)"
   ]
  },
  {
   "cell_type": "markdown",
   "metadata": {},
   "source": [
    "## Por qué debería importarnos esto?"
   ]
  },
  {
   "cell_type": "markdown",
   "metadata": {},
   "source": [
    "<p float=\"center\">\n",
    "  <img src=\"https://github.com/carlosalvarezh/Analisis_Numerico/blob/master/images/C01_Img02.png?raw=true\" width=\"500\" />\n",
    "</p>"
   ]
  },
  {
   "cell_type": "markdown",
   "metadata": {},
   "source": [
    "- Aritmética de punto flotante no es conmutativa o asociativa\n",
    "\n",
    "\n",
    "- Errores de punto flotante compuestos, No asuma que la precisión doble es suficiente\n",
    "\n",
    "\n",
    "- Mezclar precisión es muy peligroso"
   ]
  },
  {
   "cell_type": "markdown",
   "metadata": {},
   "source": [
    "***EL ORDEN DE LOS FACTORES NO ALTERA EL PRODUCTO???***\n",
    "\n",
    "$$2 \\times 3 = 3 \\times 2 = 6$$\n",
    "\n",
    "\n",
    "$$ 10^{300} \\times 10^{50} \\times 10^{-60} = 10^{300} \\times 10^{-60} \\times 10^{50} ??$$\n"
   ]
  },
  {
   "cell_type": "code",
   "execution_count": 23,
   "metadata": {},
   "outputs": [],
   "source": [
    "a = 10**300\n",
    "b = 10**10\n",
    "c = 10**-60\n"
   ]
  },
  {
   "cell_type": "code",
   "execution_count": 24,
   "metadata": {},
   "outputs": [
    {
     "ename": "OverflowError",
     "evalue": "int too large to convert to float",
     "output_type": "error",
     "traceback": [
      "\u001b[1;31m---------------------------------------------------------------------------\u001b[0m",
      "\u001b[1;31mOverflowError\u001b[0m                             Traceback (most recent call last)",
      "\u001b[1;32m<ipython-input-24-8b26f45c3c82>\u001b[0m in \u001b[0;36m<module>\u001b[1;34m\u001b[0m\n\u001b[1;32m----> 1\u001b[1;33m \u001b[0md1\u001b[0m \u001b[1;33m=\u001b[0m \u001b[0ma\u001b[0m \u001b[1;33m*\u001b[0m \u001b[0mb\u001b[0m \u001b[1;33m*\u001b[0m \u001b[0mc\u001b[0m\u001b[1;33m\u001b[0m\u001b[1;33m\u001b[0m\u001b[0m\n\u001b[0m\u001b[0;32m      2\u001b[0m \u001b[0mprint\u001b[0m\u001b[1;33m(\u001b[0m\u001b[1;34m\"d1: \"\u001b[0m\u001b[1;33m,\u001b[0m \u001b[0md1\u001b[0m\u001b[1;33m)\u001b[0m\u001b[1;33m\u001b[0m\u001b[1;33m\u001b[0m\u001b[0m\n",
      "\u001b[1;31mOverflowError\u001b[0m: int too large to convert to float"
     ]
    }
   ],
   "source": [
    "d1 = a * b * c\n",
    "print(\"d1: \", d1)"
   ]
  },
  {
   "cell_type": "code",
   "execution_count": null,
   "metadata": {},
   "outputs": [],
   "source": [
    "d2 = b * c * a\n",
    "print(\"d2: \", d2)\n"
   ]
  },
  {
   "cell_type": "markdown",
   "metadata": {},
   "source": [
    "[Volver a la Tabla de Contenido](#TOC)"
   ]
  },
  {
   "cell_type": "markdown",
   "metadata": {},
   "source": [
    "### Ejemplo 1: Aritmética simple"
   ]
  },
  {
   "cell_type": "markdown",
   "metadata": {},
   "source": [
    "Aritmética simple $\\delta < \\epsilon_{\\text{machine}}$\n",
    "\n",
    "   $$(1+\\delta) - 1 = 1 - 1 = 0$$\n",
    "\n",
    "   $$1 - 1 + \\delta = \\delta$$"
   ]
  },
  {
   "cell_type": "code",
   "execution_count": null,
   "metadata": {},
   "outputs": [],
   "source": [
    "delta = 1.0000000001 * eps\n",
    "\n",
    "value = (1 + delta) - 1\n",
    "print(value)"
   ]
  },
  {
   "cell_type": "markdown",
   "metadata": {},
   "source": [
    "[Volver a la Tabla de Contenido](#TOC)"
   ]
  },
  {
   "cell_type": "markdown",
   "metadata": {},
   "source": [
    "### Ejemplo 2: Cancelación catastrófica"
   ]
  },
  {
   "cell_type": "markdown",
   "metadata": {},
   "source": [
    "Miremos qué sucede cuando sumamos dos números $x$ y $y$ cuando $x+y \\neq 0$. De hecho, podemos estimar estos límites haciendo un análisis de error. Aquí necesitamos presentar la idea de que cada operación de punto flotante introduce un error tal que\n",
    "\n",
    "$$\n",
    "    \\text{fl}(x ~\\text{op}~ y) = (x ~\\text{op}~ y) (1 + \\delta)\n",
    "$$\n",
    "\n",
    "donde $\\text{fl}(\\cdot)$ es una función que devuelve la representación de punto flotante de la expresión encerrada, $\\text{op}$ es alguna operación (ex. $+, -, \\times, /$), y $\\delta$ es el error de punto flotante debido a  $\\text{op}$."
   ]
  },
  {
   "cell_type": "markdown",
   "metadata": {},
   "source": [
    "De vuelta a nuestro problema en cuestión. El error de coma flotante debido a la suma es\n",
    "\n",
    "$$\\text{fl}(x + y) = (x + y) (1 + \\delta).$$\n",
    "\n",
    "\n",
    "Comparando esto con la solución verdadera usando un error relativo tenemos\n",
    "\n",
    "$$\\begin{aligned}\n",
    "    \\frac{(x + y) - \\text{fl}(x + y)}{x + y} &= \\frac{(x + y) - (x + y) (1 + \\delta)}{x + y} = \\delta.\n",
    "\\end{aligned}$$\n",
    "\n",
    "entonces si $\\delta = \\mathcal{O}(\\epsilon_{\\text{machine}})$ no estaremos muy preocupados."
   ]
  },
  {
   "cell_type": "markdown",
   "metadata": {},
   "source": [
    "Que pasa si consideramos un error de punto flotante en la representación de $x$ y $y$, $x \\neq y$, y decimos que $\\delta_x$ y $\\delta_y$ son la magnitud de los errores en su representación. Asumiremos que esto constituye el error de punto flotante en lugar de estar asociado con la operación en sí.\n",
    "\n",
    "Dado todo esto, tendríamos\n",
    "\n",
    "$$\\begin{aligned}\n",
    "    \\text{fl}(x + y) &= x (1 + \\delta_x) + y (1 + \\delta_y) \\\\\n",
    "    &= x + y + x \\delta_x + y \\delta_y \\\\\n",
    "    &= (x + y) \\left(1 + \\frac{x \\delta_x + y \\delta_y}{x + y}\\right)\n",
    "\\end{aligned}$$"
   ]
  },
  {
   "cell_type": "markdown",
   "metadata": {},
   "source": [
    "Calculando nuevamente el error relativo, tendremos\n",
    "\n",
    "$$\\begin{aligned}\n",
    "    \\frac{x + y - (x + y) \\left(1 + \\frac{x \\delta_x + y \\delta_y}{x + y}\\right)}{x + y} &= 1 - \\left(1 + \\frac{x \\delta_x + y \\delta_y}{x + y}\\right) \\\\\n",
    "    &= \\frac{x}{x + y} \\delta_x + \\frac{y}{x + y} \\delta_y \\\\\n",
    "    &= \\frac{1}{x + y} (x \\delta_x + y \\delta_y)\n",
    "\\end{aligned}$$\n",
    "\n",
    "Lo importante aquí es que ahora el error depende de los valores de $x$ y $y$, y más importante aún, su suma. De particular preocupación es el tamaño relativo de $x + y$. A medida que se acerca a cero en relación con las magnitudes de $x$ y $y$, el error podría ser arbitrariamente grande. Esto se conoce como ***cancelación catastrófica***."
   ]
  },
  {
   "cell_type": "code",
   "execution_count": null,
   "metadata": {},
   "outputs": [],
   "source": [
    "dx = np.array([10**(-n) for n in range(1, 16)])\n",
    "x = 1.0 + dx\n",
    "y = -np.ones(x.shape)\n",
    "error = np.abs(x + y - dx) / (dx)\n",
    "\n",
    "fig = plt.figure()\n",
    "fig.set_figwidth(fig.get_figwidth() * 2)\n",
    "\n",
    "axes = fig.add_subplot(1, 2, 1)\n",
    "axes.loglog(dx, x + y, 'o-')\n",
    "axes.set_xlabel(\"$\\Delta x$\")\n",
    "axes.set_ylabel(\"$x + y$\")\n",
    "axes.set_title(\"$\\Delta x$ vs. $x+y$\")\n",
    "\n",
    "axes = fig.add_subplot(1, 2, 2)\n",
    "axes.loglog(dx, error, 'o-')\n",
    "axes.set_xlabel(\"$\\Delta x$\")\n",
    "axes.set_ylabel(\"$|x + y - \\Delta x| / \\Delta x$\")\n",
    "axes.set_title(\"Diferencia entre $x$ y $y$ vs. Error relativo\")\n",
    "\n",
    "plt.show()"
   ]
  },
  {
   "cell_type": "markdown",
   "metadata": {},
   "source": [
    "[Volver a la Tabla de Contenido](#TOC)"
   ]
  },
  {
   "cell_type": "markdown",
   "metadata": {},
   "source": [
    "### Ejemplo 3: Evaluación de una función"
   ]
  },
  {
   "cell_type": "markdown",
   "metadata": {},
   "source": [
    "Considere la función\n",
    "\n",
    "$$\n",
    "    f(x) = \\frac{1 - \\cos x}{x^2}\n",
    "$$\n",
    "\n",
    "con $x\\in[-10^{-4}, 10^{-4}]$. \n",
    "\n",
    "Tomando el límite cuando $x \\rightarrow 0$ podemos ver qué comportamiento esperaríamos ver al evaluar esta función:\n",
    "\n",
    "$$\n",
    "    \\lim_{x \\rightarrow 0} \\frac{1 - \\cos x}{x^2} = \\lim_{x \\rightarrow 0} \\frac{\\sin x}{2 x} = \\lim_{x \\rightarrow 0} \\frac{\\cos x}{2} = \\frac{1}{2}.\n",
    "$$\n",
    "\n",
    "¿Qué hace la representación de punto flotante?"
   ]
  },
  {
   "cell_type": "code",
   "execution_count": null,
   "metadata": {},
   "outputs": [],
   "source": [
    "f = (1-np.cos(0))/0**2"
   ]
  },
  {
   "cell_type": "code",
   "execution_count": null,
   "metadata": {},
   "outputs": [],
   "source": [
    "x = np.linspace(-1e-3, 1e-3, 100, dtype=np.float32)\n",
    "error = (0.5 - (1.0 - np.cos(x)) / x**2) / 0.5\n",
    "\n",
    "fig = plt.figure()\n",
    "axes = fig.add_subplot(1, 1, 1)\n",
    "axes.plot(x, error, 'o')\n",
    "axes.set_xlabel(\"x\")\n",
    "axes.set_ylabel(\"Error Relativo\")"
   ]
  },
  {
   "cell_type": "markdown",
   "metadata": {},
   "source": [
    "[Volver a la Tabla de Contenido](#TOC)"
   ]
  },
  {
   "cell_type": "markdown",
   "metadata": {},
   "source": [
    "### Ejemplo 4: Evaluación de un Polinomio"
   ]
  },
  {
   "cell_type": "markdown",
   "metadata": {},
   "source": [
    " $$f(x) = x^7 - 7x^6 + 21 x^5 - 35 x^4 + 35x^3-21x^2 + 7x - 1$$"
   ]
  },
  {
   "cell_type": "code",
   "execution_count": null,
   "metadata": {
    "scrolled": true
   },
   "outputs": [],
   "source": [
    "x = np.linspace(0.988, 1.012, 1000, dtype=np.float16)\n",
    "y = x**7 - 7.0 * x**6 + 21.0 * x**5 - 35.0 * x**4 + 35.0 * x**3 - 21.0 * x**2 + 7.0 * x - 1.0\n",
    "\n",
    "fig = plt.figure()\n",
    "axes = fig.add_subplot(1, 1, 1)\n",
    "axes.plot(x, y, 'r')\n",
    "axes.set_xlabel(\"x\")\n",
    "axes.set_ylabel(\"y\")\n",
    "axes.set_ylim((-0.1, 0.1))\n",
    "axes.set_xlim((x[0], x[-1]))\n",
    "plt.show()"
   ]
  },
  {
   "cell_type": "markdown",
   "metadata": {},
   "source": [
    "[Volver a la Tabla de Contenido](#TOC)"
   ]
  },
  {
   "cell_type": "markdown",
   "metadata": {},
   "source": [
    "### Ejemplo 5: Evaluación de una función racional"
   ]
  },
  {
   "cell_type": "markdown",
   "metadata": {},
   "source": [
    "Calcule $f(x) = x + 1$ por la función $$F(x) = \\frac{x^2 - 1}{x - 1}$$\n",
    "\n",
    "¿Cuál comportamiento esperarías encontrar?"
   ]
  },
  {
   "cell_type": "code",
   "execution_count": null,
   "metadata": {},
   "outputs": [],
   "source": [
    "x = np.linspace(0.5, 1.5, 101, dtype=np.float16)\n",
    "f_hat = (x**2 - 1.0) / (x - 1.0)\n",
    "\n",
    "fig = plt.figure()\n",
    "axes = fig.add_subplot(1, 1, 1)\n",
    "axes.plot(x, np.abs(f_hat - (x + 1.0)))\n",
    "axes.set_xlabel(\"$x$\")\n",
    "axes.set_ylabel(\"Error Absoluto\")\n",
    "plt.show()"
   ]
  },
  {
   "cell_type": "markdown",
   "metadata": {},
   "source": [
    "[Volver a la Tabla de Contenido](#TOC)"
   ]
  },
  {
   "cell_type": "markdown",
   "metadata": {},
   "source": [
    "## Combinación de error"
   ]
  },
  {
   "cell_type": "markdown",
   "metadata": {},
   "source": [
    "En general, nos debemos ocupar de la combinación de error de truncamiento con el error de punto flotante.\n",
    "\n",
    "- Error de Truncamiento: errores que surgen de la aproximación de una función, truncamiento de una serie.\n",
    "\n",
    "$$\\sin x \\approx x - \\frac{x^3}{3!} + \\frac{x^5}{5!} + O(x^7)$$\n",
    "\n",
    "\n",
    "- Error de punto flotante: errores derivados de la aproximación de números reales con números de precisión finita\n",
    "\n",
    "$$\\pi \\approx 3.14$$\n",
    "\n",
    "o $\\frac{1}{3} \\approx 0.333333333$ en decimal, los resultados forman un número finito de registros para representar cada número."
   ]
  },
  {
   "cell_type": "markdown",
   "metadata": {},
   "source": [
    "[Volver a la Tabla de Contenido](#TOC)"
   ]
  },
  {
   "cell_type": "markdown",
   "metadata": {},
   "source": [
    "### Ejemplo 1:"
   ]
  },
  {
   "cell_type": "markdown",
   "metadata": {},
   "source": [
    "Considere la aproximación de diferencias finitas donde $f(x) = e^x$ y estamos evaluando en $x=1$\n",
    "\n",
    "$$f'(x) \\approx \\frac{f(x + \\Delta x) - f(x)}{\\Delta x}$$\n",
    "\n",
    "Compare el error entre disminuir $\\Delta x$ y la verdadera solucion $f'(1) = e$"
   ]
  },
  {
   "cell_type": "code",
   "execution_count": null,
   "metadata": {},
   "outputs": [],
   "source": [
    "delta_x = np.linspace(1e-20, 5.0, 100)\n",
    "delta_x = np.array([2.0**(-n) for n in range(1, 60)])\n",
    "x = 1.0\n",
    "f_hat_1 = (np.exp(x + delta_x) - np.exp(x)) / (delta_x)\n",
    "f_hat_2 = (np.exp(x + delta_x) - np.exp(x - delta_x)) / (2.0 * delta_x)\n",
    "\n",
    "fig = plt.figure()\n",
    "axes = fig.add_subplot(1, 1, 1)\n",
    "axes.loglog(delta_x, np.abs(f_hat_1 - np.exp(1)), 'o-', label=\"Unilateral\")\n",
    "axes.loglog(delta_x, np.abs(f_hat_2 - np.exp(1)), 's-', label=\"Centrado\")\n",
    "axes.legend(loc=3)\n",
    "axes.set_xlabel(\"$\\Delta x$\")\n",
    "axes.set_ylabel(\"Error Absoluto\")\n",
    "plt.show()"
   ]
  },
  {
   "cell_type": "markdown",
   "metadata": {},
   "source": [
    "[Volver a la Tabla de Contenido](#TOC)"
   ]
  },
  {
   "cell_type": "markdown",
   "metadata": {},
   "source": [
    "### Ejemplo 2:"
   ]
  },
  {
   "cell_type": "markdown",
   "metadata": {},
   "source": [
    "Evalúe $e^x$ con la serie de *Taylor*\n",
    "\n",
    "$$e^x = \\sum^\\infty_{n=0} \\frac{x^n}{n!}$$\n",
    "\n",
    "podemos elegir $n< \\infty$ que puede aproximarse $e^x$ en un rango dado $x \\in [a,b]$ tal que el error relativo $E$ satisfaga $E<8 \\cdot \\varepsilon_{\\text{machine}}$?\n",
    "\n",
    "¿Cuál podría ser una mejor manera de simplemente evaluar el polinomio de Taylor directamente por varios $N$?"
   ]
  },
  {
   "cell_type": "code",
   "execution_count": null,
   "metadata": {
    "scrolled": true
   },
   "outputs": [],
   "source": [
    "def my_exp(x, N=10):\n",
    "    value = 0.0\n",
    "    for n in range(N + 1):\n",
    "        value += x**n / scipy.special.factorial(n)\n",
    "        \n",
    "    return value\n",
    "\n",
    "x = np.linspace(-2, 2, 100, dtype=np.float32)\n",
    "for N in range(1, 50):\n",
    "    error = np.abs((np.exp(x) - my_exp(x, N=N)) / np.exp(x))\n",
    "    if np.all(error < 8.0 * np.finfo(float).eps):\n",
    "        break\n",
    "\n",
    "print(N)\n",
    "\n",
    "fig = plt.figure()\n",
    "axes = fig.add_subplot(1, 1, 1)\n",
    "axes.plot(x, error)\n",
    "axes.set_xlabel(\"x\")\n",
    "axes.set_ylabel(\"Error Relativo\")\n",
    "plt.show()"
   ]
  },
  {
   "cell_type": "markdown",
   "metadata": {},
   "source": [
    "[Volver a la Tabla de Contenido](#TOC)"
   ]
  },
  {
   "cell_type": "markdown",
   "metadata": {},
   "source": [
    "### Ejemplo 3: Error relativo"
   ]
  },
  {
   "cell_type": "markdown",
   "metadata": {},
   "source": [
    "Digamos que queremos calcular el error relativo de dos valores $x$ y $y$ usando $x$ como valor de normalización\n",
    "\n",
    "$$\n",
    "    E = \\frac{x - y}{x}\n",
    "$$\n",
    "y\n",
    "$$\n",
    "    E = 1 - \\frac{y}{x}\n",
    "$$\n",
    "\n",
    "son equivalentes. En precisión finita, ¿qué forma pidría esperarse que sea más precisa y por qué?\n",
    "\n",
    "Ejemplo tomado de [blog](https://nickhigham.wordpress.com/2017/08/14/how-and-how-not-to-compute-a-relative-error/) posteado por Nick Higham*"
   ]
  },
  {
   "cell_type": "markdown",
   "metadata": {},
   "source": [
    "Usando este modelo, la definición original contiene dos operaciones de punto flotante de manera que\n",
    "\n",
    "$$\\begin{aligned}\n",
    "    E_1 = \\text{fl}\\left(\\frac{x - y}{x}\\right) &= \\text{fl}(\\text{fl}(x - y) / x) \\\\\n",
    "    &= \\left[ \\frac{(x - y) (1 + \\delta_+)}{x} \\right ] (1 + \\delta_/) \\\\\n",
    "    &= \\frac{x - y}{x}  (1 + \\delta_+) (1 + \\delta_/)\n",
    "\\end{aligned}$$"
   ]
  },
  {
   "cell_type": "markdown",
   "metadata": {},
   "source": [
    "Para la otra formulación tenemos\n",
    "\n",
    "$$\\begin{aligned}\n",
    "    E_2 = \\text{fl}\\left( 1 - \\frac{y}{x} \\right ) &= \\text{fl}\\left(1 - \\text{fl}\\left(\\frac{y}{x}\\right) \\right) \\\\\n",
    "    &= \\left(1 - \\frac{y}{x} (1 + \\delta_/) \\right) (1 + \\delta_-)\n",
    "\\end{aligned}$$"
   ]
  },
  {
   "cell_type": "markdown",
   "metadata": {},
   "source": [
    "Si suponemos que todos las $\\text{op}$s tienen magnitudes de error similares, entonces podemos simplificar las cosas dejando que \n",
    "\n",
    "$$\n",
    "    |\\delta_\\ast| \\le \\epsilon.\n",
    "$$\n",
    "\n",
    "Para comparar las dos formulaciones, nuevamente usamos el error relativo entre el error relativo verdadero $e_i$ y nuestras versiones calculadas $E_i$"
   ]
  },
  {
   "cell_type": "markdown",
   "metadata": {},
   "source": [
    "Definición original\n",
    "\n",
    "$$\\begin{aligned}\n",
    "    \\frac{e - E_1}{e} &= \\frac{\\frac{x - y}{x} - \\frac{x - y}{x}  (1 + \\delta_+) (1 + \\delta_/)}{\\frac{x - y}{x}} \\\\\n",
    "    &\\le 1 - (1 + \\epsilon) (1 + \\epsilon) = 2 \\epsilon + \\epsilon^2\n",
    "\\end{aligned}$$"
   ]
  },
  {
   "cell_type": "markdown",
   "metadata": {},
   "source": [
    "Definición manipulada:\n",
    "\n",
    "$$\\begin{aligned}\n",
    "    \\frac{e - E_2}{e} &= \\frac{e - \\left[1 - \\frac{y}{x}(1 + \\delta_/) \\right] (1 + \\delta_-)}{e} \\\\\n",
    "    &= \\frac{e - \\left[e - \\frac{y}{x} \\delta_/) \\right] (1 + \\delta_-)}{e} \\\\\n",
    "    &= \\frac{e - \\left[e + e\\delta_- - \\frac{y}{x} \\delta_/ - \\frac{y}{x} \\delta_/ \\delta_-)) \\right] }{e} \\\\\n",
    "    &= - \\delta_- + \\frac{1}{e} \\frac{y}{x} \\left(\\delta_/ + \\delta_/ \\delta_- \\right) \\\\\n",
    "    &= - \\delta_- + \\frac{1 -e}{e} \\left(\\delta_/ + \\delta_/ \\delta_- \\right) \\\\\n",
    "    &\\le \\epsilon + \\left |\\frac{1 - e}{e}\\right | (\\epsilon + \\epsilon^2)\n",
    "\\end{aligned}$$\n",
    "\n",
    "Vemos entonces que nuestro error de punto flotante dependerá de la magnitud relativa de $e$"
   ]
  },
  {
   "cell_type": "code",
   "execution_count": null,
   "metadata": {},
   "outputs": [],
   "source": [
    "N = 501    # Note: Use 501 instead of 500 to avoid the zero value\n",
    "d = np.finfo(np.float32).eps * 1e4\n",
    "a = 3.0\n",
    "x = a * np.ones(N, dtype=np.float32)\n",
    "y = [x[i] + np.multiply((i - np.divide(N, 2.0, dtype=np.float32)), d, dtype=np.float32) for i in range(N)]\n",
    "\n",
    "# Compute errors and \"true\" error\n",
    "relative_error = np.empty((2, N), dtype=np.float32)\n",
    "relative_error[0, :] = np.abs(x - y) / x\n",
    "relative_error[1, :] = np.abs(1.0 - y / x)\n",
    "exact = np.abs( (np.float64(x) - np.float64(y)) / np.float64(x))\n",
    "\n",
    "# Compute differences between error calculations\n",
    "error = np.empty((2, N))\n",
    "for i in range(2):\n",
    "    error[i, :] = np.abs((relative_error[i, :] - exact) / np.abs(exact))\n",
    "\n",
    "fig = plt.figure()\n",
    "axes = fig.add_subplot(1, 1, 1)\n",
    "axes.semilogy(y, error[0, :], '.', markersize=10, label=\"$|x-y|/|x|$\")\n",
    "axes.semilogy(y, error[1, :], '.', markersize=10, label=\"$|1-y/x|$\")\n",
    "\n",
    "axes.grid(True)\n",
    "axes.set_xlabel(\"y\")\n",
    "axes.set_ylabel(\"Error Relativo\")\n",
    "axes.set_xlim((np.min(y), np.max(y)))\n",
    "axes.set_ylim((5e-9, np.max(error[1, :])))\n",
    "axes.set_title(\"Comparasión Error Relativo\")\n",
    "axes.legend()\n",
    "plt.show()"
   ]
  },
  {
   "cell_type": "markdown",
   "metadata": {},
   "source": [
    "Algunos enlaces de utilidad con respecto al punto flotante IEEE:\n",
    "\n",
    "- [What Every Computer Scientist Should Know About Floating-Point Arithmetic](http://docs.oracle.com/cd/E19957-01/806-3568/ncg_goldberg.html)\n",
    "\n",
    "\n",
    "- [IEEE 754 Floating Point Calculator](http://babbage.cs.qc.edu/courses/cs341/IEEE-754.html)\n",
    "\n",
    "\n",
    "- [Numerical Computing with IEEE Floating Point Arithmetic](http://epubs.siam.org/doi/book/10.1137/1.9780898718072)"
   ]
  },
  {
   "cell_type": "markdown",
   "metadata": {},
   "source": [
    "[Volver a la Tabla de Contenido](#TOC)"
   ]
  },
  {
   "cell_type": "markdown",
   "metadata": {},
   "source": [
    "## Operaciones de conteo"
   ]
  },
  {
   "cell_type": "markdown",
   "metadata": {},
   "source": [
    "- ***Error de truncamiento:*** *¿Por qué no usar más términos en la serie de Taylor?*\n",
    "\n",
    "\n",
    "- ***Error de punto flotante:*** *¿Por qué no utilizar la mayor precisión posible?*"
   ]
  },
  {
   "cell_type": "markdown",
   "metadata": {},
   "source": [
    "[Volver a la Tabla de Contenido](#TOC)"
   ]
  }
 ],
 "metadata": {
  "kernelspec": {
   "display_name": "Python 3 (ipykernel)",
   "language": "python",
   "name": "python3"
  },
  "language_info": {
   "codemirror_mode": {
    "name": "ipython",
    "version": 3
   },
   "file_extension": ".py",
   "mimetype": "text/x-python",
   "name": "python",
   "nbconvert_exporter": "python",
   "pygments_lexer": "ipython3",
   "version": "3.9.7"
  },
  "toc": {
   "base_numbering": 1,
   "nav_menu": {},
   "number_sections": true,
   "sideBar": true,
   "skip_h1_title": true,
   "title_cell": "Tabla de Contenidos",
   "title_sidebar": "Contenidos",
   "toc_cell": true,
   "toc_position": {
    "height": "calc(100% - 180px)",
    "left": "10px",
    "top": "150px",
    "width": "165px"
   },
   "toc_section_display": true,
   "toc_window_display": true
  }
 },
 "nbformat": 4,
 "nbformat_minor": 2
}
